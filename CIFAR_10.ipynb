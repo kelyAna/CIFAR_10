{
  "nbformat": 4,
  "nbformat_minor": 0,
  "metadata": {
    "colab": {
      "name": "CIFAR_10.ipynb",
      "provenance": []
    },
    "kernelspec": {
      "name": "python3",
      "display_name": "Python 3"
    }
  },
  "cells": [
    {
      "cell_type": "markdown",
      "metadata": {
        "id": "b9NRM7wZ0_sg",
        "colab_type": "text"
      },
      "source": [
        "**CIFAR-10**"
      ]
    },
    {
      "cell_type": "markdown",
      "metadata": {
        "id": "ajdVydbq0b-j",
        "colab_type": "text"
      },
      "source": [
        "**Tarefa de classificação de 10 classes**\n",
        "\n",
        "*   avião\n",
        "*   automóvel\n",
        "*   pássaro\n",
        "*   gato\n",
        "*   veado\n",
        "*   cachorro\n",
        "*   sapo\n",
        "*   cavalo\n",
        "*   navio\n",
        "*   caminhão\n",
        "\n",
        "\n",
        "\n"
      ]
    },
    {
      "cell_type": "markdown",
      "metadata": {
        "id": "7nC-jJI92FAj",
        "colab_type": "text"
      },
      "source": [
        "**Importações iniciais**"
      ]
    },
    {
      "cell_type": "code",
      "metadata": {
        "id": "Z0ShCUdm0Tni",
        "colab_type": "code",
        "colab": {}
      },
      "source": [
        "import matplotlib.pyplot as plt\n",
        "from keras.models import Sequential\n",
        "from keras.layers import Dense, Flatten, Dropout\n",
        "from keras.utils import np_utils\n",
        "from keras.layers import Conv2D, MaxPooling2D\n",
        "from keras.layers.normalization import BatchNormalization"
      ],
      "execution_count": 0,
      "outputs": []
    },
    {
      "cell_type": "markdown",
      "metadata": {
        "id": "gl1mVBpw4k7b",
        "colab_type": "text"
      },
      "source": [
        "**Leitura da base de dados**"
      ]
    },
    {
      "cell_type": "code",
      "metadata": {
        "id": "youVdCU841PY",
        "colab_type": "code",
        "colab": {}
      },
      "source": [
        "from keras.datasets import cifar10"
      ],
      "execution_count": 0,
      "outputs": []
    },
    {
      "cell_type": "code",
      "metadata": {
        "id": "_B6bxt_847YZ",
        "colab_type": "code",
        "colab": {}
      },
      "source": [
        "(X_train, y_train), (X_test, y_test) = cifar10.load_data()"
      ],
      "execution_count": 0,
      "outputs": []
    },
    {
      "cell_type": "markdown",
      "metadata": {
        "id": "lESpsUb25C9d",
        "colab_type": "text"
      },
      "source": [
        "**Usando a função *Shape()* para verificar a forma dos conjuntos de dados**"
      ]
    },
    {
      "cell_type": "code",
      "metadata": {
        "id": "rkTU4qQ25LVy",
        "colab_type": "code",
        "colab": {
          "base_uri": "https://localhost:8080/",
          "height": 34
        },
        "outputId": "0fe653dc-1914-4d27-c4c1-835b883ff776"
      },
      "source": [
        "X_train.shape, X_test.shape, y_train.shape, y_test.shape"
      ],
      "execution_count": 49,
      "outputs": [
        {
          "output_type": "execute_result",
          "data": {
            "text/plain": [
              "((50000, 32, 32, 3), (10000, 32, 32, 3), (50000, 1), (10000, 1))"
            ]
          },
          "metadata": {
            "tags": []
          },
          "execution_count": 49
        }
      ]
    },
    {
      "cell_type": "markdown",
      "metadata": {
        "id": "7ElmBIax5ZmL",
        "colab_type": "text"
      },
      "source": [
        "**Visualização dos dados**\n",
        "\n",
        "*   X_train na posição 2, como exemplo de amostra\n",
        "\n"
      ]
    },
    {
      "cell_type": "code",
      "metadata": {
        "id": "h3BbCN0t5k0Q",
        "colab_type": "code",
        "colab": {
          "base_uri": "https://localhost:8080/",
          "height": 298
        },
        "outputId": "dbe86fec-74ff-4899-8a70-644b9925aba3"
      },
      "source": [
        "plt.imshow(X_train[3], cmap='gray')\n",
        "plt.title('Classe' + str(y_train[2]))"
      ],
      "execution_count": 50,
      "outputs": [
        {
          "output_type": "execute_result",
          "data": {
            "text/plain": [
              "Text(0.5, 1.0, 'Classe[9]')"
            ]
          },
          "metadata": {
            "tags": []
          },
          "execution_count": 50
        },
        {
          "output_type": "display_data",
          "data": {
            "image/png": "[encoded data removed]",
            "text/plain": [
              "<Figure size 432x288 with 1 Axes>"
            ]
          },
          "metadata": {
            "tags": [],
            "needs_background": "light"
          }
        }
      ]
    },
    {
      "cell_type": "markdown",
      "metadata": {
        "id": "H_pQG83U58Wp",
        "colab_type": "text"
      },
      "source": [
        "**Conversão dos dados para o TensorFlow realizar a leitura**\n",
        "\n",
        "\n",
        "*   Função ***reshape()***, para remodelar a forma dos dados\n"
      ]
    },
    {
      "cell_type": "code",
      "metadata": {
        "id": "ZexCKUEt6C5S",
        "colab_type": "code",
        "colab": {}
      },
      "source": [
        "features_train = X_train.reshape(X_train.shape[0], 32, 32, 3)"
      ],
      "execution_count": 0,
      "outputs": []
    },
    {
      "cell_type": "code",
      "metadata": {
        "id": "hfWZ7Oe06UTA",
        "colab_type": "code",
        "colab": {}
      },
      "source": [
        "features_test = X_test.reshape(X_test.shape[0], 32, 32, 3)"
      ],
      "execution_count": 0,
      "outputs": []
    },
    {
      "cell_type": "code",
      "metadata": {
        "id": "CWFyRh8R6oOA",
        "colab_type": "code",
        "colab": {}
      },
      "source": [
        "features_train = features_train.astype('float32')\n",
        "features_test = features_test.astype('float32')"
      ],
      "execution_count": 0,
      "outputs": []
    },
    {
      "cell_type": "markdown",
      "metadata": {
        "id": "mv-Menhb7HZc",
        "colab_type": "text"
      },
      "source": [
        "**Modificar a escala dos dados**\n",
        "\n",
        "*   escala de 0 a 1\n"
      ]
    },
    {
      "cell_type": "code",
      "metadata": {
        "id": "tE2o0RBDBPQF",
        "colab_type": "code",
        "colab": {}
      },
      "source": [
        "features_train /= 255"
      ],
      "execution_count": 0,
      "outputs": []
    },
    {
      "cell_type": "code",
      "metadata": {
        "id": "WxNskd9UBSfb",
        "colab_type": "code",
        "colab": {}
      },
      "source": [
        "features_test /= 255"
      ],
      "execution_count": 0,
      "outputs": []
    },
    {
      "cell_type": "markdown",
      "metadata": {
        "id": "5SNyfcf8Be6k",
        "colab_type": "text"
      },
      "source": [
        "**Variáveis do tipo Dummy**"
      ]
    },
    {
      "cell_type": "code",
      "metadata": {
        "id": "m8HTL3J8BjjM",
        "colab_type": "code",
        "colab": {}
      },
      "source": [
        "class_train = np_utils.to_categorical(y_train, 10)"
      ],
      "execution_count": 0,
      "outputs": []
    },
    {
      "cell_type": "code",
      "metadata": {
        "id": "ckQKKnRkB1cO",
        "colab_type": "code",
        "colab": {
          "base_uri": "https://localhost:8080/",
          "height": 139
        },
        "outputId": "320037f5-5212-4d1f-8ac0-a92783869fa7"
      },
      "source": [
        "class_train"
      ],
      "execution_count": 57,
      "outputs": [
        {
          "output_type": "execute_result",
          "data": {
            "text/plain": [
              "array([[0., 0., 0., ..., 0., 0., 0.],\n",
              "       [0., 0., 0., ..., 0., 0., 1.],\n",
              "       [0., 0., 0., ..., 0., 0., 1.],\n",
              "       ...,\n",
              "       [0., 0., 0., ..., 0., 0., 1.],\n",
              "       [0., 1., 0., ..., 0., 0., 0.],\n",
              "       [0., 1., 0., ..., 0., 0., 0.]], dtype=float32)"
            ]
          },
          "metadata": {
            "tags": []
          },
          "execution_count": 57
        }
      ]
    },
    {
      "cell_type": "code",
      "metadata": {
        "id": "kMMxbKB2EZ_O",
        "colab_type": "code",
        "colab": {}
      },
      "source": [
        "class_test = np_utils.to_categorical(y_test, 10)"
      ],
      "execution_count": 0,
      "outputs": []
    },
    {
      "cell_type": "markdown",
      "metadata": {
        "id": "6HU7cMpaB9PC",
        "colab_type": "text"
      },
      "source": [
        "**Estrutura da CNN**"
      ]
    },
    {
      "cell_type": "code",
      "metadata": {
        "id": "LTgrbp5cB465",
        "colab_type": "code",
        "colab": {
          "base_uri": "https://localhost:8080/",
          "height": 225
        },
        "outputId": "e69c60ac-2b6b-4c68-d8ac-917e84bc9211"
      },
      "source": [
        "classificador = Sequential()\n",
        "classificador.add(Conv2D(32, (3,3),\n",
        "                         input_shape = (32,32,3)))\n",
        "classificador.add(BatchNormalization())\n",
        "classificador.add(MaxPooling2D(pool_size = (2,2)))\n",
        "\n",
        "classificador.add(Conv2D(32, (3,3),\n",
        "                         input_shape = (32,32,3)))\n",
        "classificador.add(BatchNormalization())\n",
        "classificador.add(MaxPooling2D(pool_size = (2,2)))\n",
        "classificador.add(Flatten())\n",
        "classificador.add(Dense(units = 128, activation = 'relu'))\n",
        "classificador.add(Dropout(0.2))\n",
        "classificador.add(Dense(units = 128, activation = 'relu'))\n",
        "classificador.add(Dropout(0.2))\n",
        "classificador.add(Dense(units = 10,\n",
        "                        activation = 'softmax'))\n",
        "classificador.compile(loss = 'categorical_crossentropy',\n",
        "                      optimizer = 'adam', metrics = ['accuracy'])\n",
        "classificador.fit(features_train, class_train,\n",
        "                  batch_size = 128, epochs = 5,\n",
        "                  validation_data = (features_test, class_test))"
      ],
      "execution_count": 61,
      "outputs": [
        {
          "output_type": "stream",
          "text": [
            "Train on 50000 samples, validate on 10000 samples\n",
            "Epoch 1/5\n",
            "50000/50000 [==============================] - 71s 1ms/step - loss: 1.6069 - accuracy: 0.4277 - val_loss: 1.9459 - val_accuracy: 0.3265\n",
            "Epoch 2/5\n",
            "50000/50000 [==============================] - 74s 1ms/step - loss: 1.2605 - accuracy: 0.5606 - val_loss: 1.4963 - val_accuracy: 0.5107\n",
            "Epoch 3/5\n",
            "50000/50000 [==============================] - 75s 2ms/step - loss: 1.1056 - accuracy: 0.6141 - val_loss: 1.0708 - val_accuracy: 0.6348\n",
            "Epoch 4/5\n",
            "50000/50000 [==============================] - 80s 2ms/step - loss: 1.0133 - accuracy: 0.6456 - val_loss: 1.5881 - val_accuracy: 0.4800\n",
            "Epoch 5/5\n",
            "50000/50000 [==============================] - 81s 2ms/step - loss: 0.9391 - accuracy: 0.6703 - val_loss: 0.9622 - val_accuracy: 0.6637\n"
          ],
          "name": "stdout"
        },
        {
          "output_type": "execute_result",
          "data": {
            "text/plain": [
              "<keras.callbacks.callbacks.History at 0x7f1cadebbc18>"
            ]
          },
          "metadata": {
            "tags": []
          },
          "execution_count": 61
        }
      ]
    },
    {
      "cell_type": "code",
      "metadata": {
        "id": "2Nsc0ycqGWh5",
        "colab_type": "code",
        "colab": {
          "base_uri": "https://localhost:8080/",
          "height": 34
        },
        "outputId": "33d617df-9571-40a1-db89-ccb0f960b698"
      },
      "source": [
        "resultados = classificador.evaluate(features_test, class_test)"
      ],
      "execution_count": 62,
      "outputs": [
        {
          "output_type": "stream",
          "text": [
            "10000/10000 [==============================] - 5s 496us/step\n"
          ],
          "name": "stdout"
        }
      ]
    },
    {
      "cell_type": "code",
      "metadata": {
        "id": "byuoPkemKDP5",
        "colab_type": "code",
        "colab": {}
      },
      "source": [
        "media = sum(resultados) / len(resultados)"
      ],
      "execution_count": 0,
      "outputs": []
    },
    {
      "cell_type": "code",
      "metadata": {
        "id": "PbeT_1GCKiau",
        "colab_type": "code",
        "colab": {
          "base_uri": "https://localhost:8080/",
          "height": 34
        },
        "outputId": "39dd90bf-7b08-4966-f20a-e8d4bf641459"
      },
      "source": [
        "media"
      ],
      "execution_count": 67,
      "outputs": [
        {
          "output_type": "execute_result",
          "data": {
            "text/plain": [
              "0.8129450943946839"
            ]
          },
          "metadata": {
            "tags": []
          },
          "execution_count": 67
        }
      ]
    }
  ]
}